{
 "metadata": {
  "language_info": {
   "codemirror_mode": {
    "name": "ipython",
    "version": 3
   },
   "file_extension": ".py",
   "mimetype": "text/x-python",
   "name": "python",
   "nbconvert_exporter": "python",
   "pygments_lexer": "ipython3",
   "version": "3.9.1-final"
  },
  "orig_nbformat": 2,
  "kernelspec": {
   "name": "python3",
   "display_name": "Python 3.9.1 64-bit",
   "metadata": {
    "interpreter": {
     "hash": "dea29a7f417e4296ff64c377badf7e82369c92581dd77e004d2915d358235d56"
    }
   }
  }
 },
 "nbformat": 4,
 "nbformat_minor": 2,
 "cells": [
  {
   "source": [
    "#Oficina de Visualização de dados Aula1.1\n",
    "import pandas as pd\n",
    "df = pd.read_csv(\"drinks.txt\")\n",
    "df"
   ],
   "cell_type": "code",
   "metadata": {},
   "execution_count": 1,
   "outputs": [
    {
     "output_type": "execute_result",
     "data": {
      "text/plain": [
       "         country  beer_servings  spirit_servings  wine_servings  \\\n",
       "0    Afghanistan              0                0              0   \n",
       "1        Albania             89              132             54   \n",
       "2        Algeria             25                0             14   \n",
       "3        Andorra            245              138            312   \n",
       "4         Angola            217               57             45   \n",
       "..           ...            ...              ...            ...   \n",
       "188    Venezuela            333              100              3   \n",
       "189      Vietnam            111                2              1   \n",
       "190        Yemen              6                0              0   \n",
       "191       Zambia             32               19              4   \n",
       "192     Zimbabwe             64               18              4   \n",
       "\n",
       "     total_litres_of_pure_alcohol  \n",
       "0                             0.0  \n",
       "1                             4.9  \n",
       "2                             0.7  \n",
       "3                            12.4  \n",
       "4                             5.9  \n",
       "..                            ...  \n",
       "188                           7.7  \n",
       "189                           2.0  \n",
       "190                           0.1  \n",
       "191                           2.5  \n",
       "192                           4.7  \n",
       "\n",
       "[193 rows x 5 columns]"
      ],
      "text/html": "<div>\n<style scoped>\n    .dataframe tbody tr th:only-of-type {\n        vertical-align: middle;\n    }\n\n    .dataframe tbody tr th {\n        vertical-align: top;\n    }\n\n    .dataframe thead th {\n        text-align: right;\n    }\n</style>\n<table border=\"1\" class=\"dataframe\">\n  <thead>\n    <tr style=\"text-align: right;\">\n      <th></th>\n      <th>country</th>\n      <th>beer_servings</th>\n      <th>spirit_servings</th>\n      <th>wine_servings</th>\n      <th>total_litres_of_pure_alcohol</th>\n    </tr>\n  </thead>\n  <tbody>\n    <tr>\n      <th>0</th>\n      <td>Afghanistan</td>\n      <td>0</td>\n      <td>0</td>\n      <td>0</td>\n      <td>0.0</td>\n    </tr>\n    <tr>\n      <th>1</th>\n      <td>Albania</td>\n      <td>89</td>\n      <td>132</td>\n      <td>54</td>\n      <td>4.9</td>\n    </tr>\n    <tr>\n      <th>2</th>\n      <td>Algeria</td>\n      <td>25</td>\n      <td>0</td>\n      <td>14</td>\n      <td>0.7</td>\n    </tr>\n    <tr>\n      <th>3</th>\n      <td>Andorra</td>\n      <td>245</td>\n      <td>138</td>\n      <td>312</td>\n      <td>12.4</td>\n    </tr>\n    <tr>\n      <th>4</th>\n      <td>Angola</td>\n      <td>217</td>\n      <td>57</td>\n      <td>45</td>\n      <td>5.9</td>\n    </tr>\n    <tr>\n      <th>...</th>\n      <td>...</td>\n      <td>...</td>\n      <td>...</td>\n      <td>...</td>\n      <td>...</td>\n    </tr>\n    <tr>\n      <th>188</th>\n      <td>Venezuela</td>\n      <td>333</td>\n      <td>100</td>\n      <td>3</td>\n      <td>7.7</td>\n    </tr>\n    <tr>\n      <th>189</th>\n      <td>Vietnam</td>\n      <td>111</td>\n      <td>2</td>\n      <td>1</td>\n      <td>2.0</td>\n    </tr>\n    <tr>\n      <th>190</th>\n      <td>Yemen</td>\n      <td>6</td>\n      <td>0</td>\n      <td>0</td>\n      <td>0.1</td>\n    </tr>\n    <tr>\n      <th>191</th>\n      <td>Zambia</td>\n      <td>32</td>\n      <td>19</td>\n      <td>4</td>\n      <td>2.5</td>\n    </tr>\n    <tr>\n      <th>192</th>\n      <td>Zimbabwe</td>\n      <td>64</td>\n      <td>18</td>\n      <td>4</td>\n      <td>4.7</td>\n    </tr>\n  </tbody>\n</table>\n<p>193 rows × 5 columns</p>\n</div>"
     },
     "metadata": {},
     "execution_count": 1
    }
   ]
  },
  {
   "source": [
    "#Qual a média e desvio padrão do consumo de cerveja, licor, vinho e total de álcool?\n",
    "df.describe()[1:3]"
   ],
   "cell_type": "code",
   "metadata": {},
   "execution_count": 2,
   "outputs": [
    {
     "output_type": "execute_result",
     "data": {
      "text/plain": [
       "      beer_servings  spirit_servings  wine_servings  \\\n",
       "mean     106.160622        80.994819      49.450777   \n",
       "std      101.143103        88.284312      79.697598   \n",
       "\n",
       "      total_litres_of_pure_alcohol  \n",
       "mean                      4.717098  \n",
       "std                       3.773298  "
      ],
      "text/html": "<div>\n<style scoped>\n    .dataframe tbody tr th:only-of-type {\n        vertical-align: middle;\n    }\n\n    .dataframe tbody tr th {\n        vertical-align: top;\n    }\n\n    .dataframe thead th {\n        text-align: right;\n    }\n</style>\n<table border=\"1\" class=\"dataframe\">\n  <thead>\n    <tr style=\"text-align: right;\">\n      <th></th>\n      <th>beer_servings</th>\n      <th>spirit_servings</th>\n      <th>wine_servings</th>\n      <th>total_litres_of_pure_alcohol</th>\n    </tr>\n  </thead>\n  <tbody>\n    <tr>\n      <th>mean</th>\n      <td>106.160622</td>\n      <td>80.994819</td>\n      <td>49.450777</td>\n      <td>4.717098</td>\n    </tr>\n    <tr>\n      <th>std</th>\n      <td>101.143103</td>\n      <td>88.284312</td>\n      <td>79.697598</td>\n      <td>3.773298</td>\n    </tr>\n  </tbody>\n</table>\n</div>"
     },
     "metadata": {},
     "execution_count": 2
    }
   ]
  },
  {
   "source": [
    "#Qual o consumo de licor na França?\n",
    "df[df['country'] == 'France'][[\"country\", \"spirit_servings\"]]"
   ],
   "cell_type": "code",
   "metadata": {},
   "execution_count": 3,
   "outputs": [
    {
     "output_type": "execute_result",
     "data": {
      "text/plain": [
       "   country  spirit_servings\n",
       "61  France              151"
      ],
      "text/html": "<div>\n<style scoped>\n    .dataframe tbody tr th:only-of-type {\n        vertical-align: middle;\n    }\n\n    .dataframe tbody tr th {\n        vertical-align: top;\n    }\n\n    .dataframe thead th {\n        text-align: right;\n    }\n</style>\n<table border=\"1\" class=\"dataframe\">\n  <thead>\n    <tr style=\"text-align: right;\">\n      <th></th>\n      <th>country</th>\n      <th>spirit_servings</th>\n    </tr>\n  </thead>\n  <tbody>\n    <tr>\n      <th>61</th>\n      <td>France</td>\n      <td>151</td>\n    </tr>\n  </tbody>\n</table>\n</div>"
     },
     "metadata": {},
     "execution_count": 3
    }
   ]
  },
  {
   "source": [
    "#Quais os 5 países nos quais se consome mais vinho?\n",
    "df.sort_values(by='wine_servings', ascending=False).head()[[\"country\", \"wine_servings\"]]"
   ],
   "cell_type": "code",
   "metadata": {},
   "execution_count": 4,
   "outputs": [
    {
     "output_type": "execute_result",
     "data": {
      "text/plain": [
       "         country  wine_servings\n",
       "61        France            370\n",
       "136     Portugal            339\n",
       "3        Andorra            312\n",
       "166  Switzerland            280\n",
       "48       Denmark            278"
      ],
      "text/html": "<div>\n<style scoped>\n    .dataframe tbody tr th:only-of-type {\n        vertical-align: middle;\n    }\n\n    .dataframe tbody tr th {\n        vertical-align: top;\n    }\n\n    .dataframe thead th {\n        text-align: right;\n    }\n</style>\n<table border=\"1\" class=\"dataframe\">\n  <thead>\n    <tr style=\"text-align: right;\">\n      <th></th>\n      <th>country</th>\n      <th>wine_servings</th>\n    </tr>\n  </thead>\n  <tbody>\n    <tr>\n      <th>61</th>\n      <td>France</td>\n      <td>370</td>\n    </tr>\n    <tr>\n      <th>136</th>\n      <td>Portugal</td>\n      <td>339</td>\n    </tr>\n    <tr>\n      <th>3</th>\n      <td>Andorra</td>\n      <td>312</td>\n    </tr>\n    <tr>\n      <th>166</th>\n      <td>Switzerland</td>\n      <td>280</td>\n    </tr>\n    <tr>\n      <th>48</th>\n      <td>Denmark</td>\n      <td>278</td>\n    </tr>\n  </tbody>\n</table>\n</div>"
     },
     "metadata": {},
     "execution_count": 4
    }
   ]
  },
  {
   "source": [
    "#Quais os países nos quais o consumo de cerveja está acima da média?\n",
    "media = df[\"beer_servings\"].mean()\n",
    "df[df[\"beer_servings\"] > media].sort_values(by='beer_servings', ascending=True)[[\"country\", \"beer_servings\"]]"
   ],
   "cell_type": "code",
   "metadata": {},
   "execution_count": 5,
   "outputs": [
    {
     "output_type": "execute_result",
     "data": {
      "text/plain": [
       "                          country  beer_servings\n",
       "139                       Moldova            109\n",
       "189                       Vietnam            111\n",
       "185                       Uruguay            115\n",
       "145  St. Vincent & the Grenadines            120\n",
       "11                        Bahamas            122\n",
       "..                            ...            ...\n",
       "98                      Lithuania            343\n",
       "65                        Germany            346\n",
       "62                          Gabon            347\n",
       "45                 Czech Republic            361\n",
       "117                       Namibia            376\n",
       "\n",
       "[76 rows x 2 columns]"
      ],
      "text/html": "<div>\n<style scoped>\n    .dataframe tbody tr th:only-of-type {\n        vertical-align: middle;\n    }\n\n    .dataframe tbody tr th {\n        vertical-align: top;\n    }\n\n    .dataframe thead th {\n        text-align: right;\n    }\n</style>\n<table border=\"1\" class=\"dataframe\">\n  <thead>\n    <tr style=\"text-align: right;\">\n      <th></th>\n      <th>country</th>\n      <th>beer_servings</th>\n    </tr>\n  </thead>\n  <tbody>\n    <tr>\n      <th>139</th>\n      <td>Moldova</td>\n      <td>109</td>\n    </tr>\n    <tr>\n      <th>189</th>\n      <td>Vietnam</td>\n      <td>111</td>\n    </tr>\n    <tr>\n      <th>185</th>\n      <td>Uruguay</td>\n      <td>115</td>\n    </tr>\n    <tr>\n      <th>145</th>\n      <td>St. Vincent &amp; the Grenadines</td>\n      <td>120</td>\n    </tr>\n    <tr>\n      <th>11</th>\n      <td>Bahamas</td>\n      <td>122</td>\n    </tr>\n    <tr>\n      <th>...</th>\n      <td>...</td>\n      <td>...</td>\n    </tr>\n    <tr>\n      <th>98</th>\n      <td>Lithuania</td>\n      <td>343</td>\n    </tr>\n    <tr>\n      <th>65</th>\n      <td>Germany</td>\n      <td>346</td>\n    </tr>\n    <tr>\n      <th>62</th>\n      <td>Gabon</td>\n      <td>347</td>\n    </tr>\n    <tr>\n      <th>45</th>\n      <td>Czech Republic</td>\n      <td>361</td>\n    </tr>\n    <tr>\n      <th>117</th>\n      <td>Namibia</td>\n      <td>376</td>\n    </tr>\n  </tbody>\n</table>\n<p>76 rows × 2 columns</p>\n</div>"
     },
     "metadata": {},
     "execution_count": 5
    }
   ]
  },
  {
   "source": [
    "#Quais países nos quais o consumo total de álcool está acima do Brasil, em ordem do menor para o maior?\n",
    "consumo_de_alcool_no_brasil = df[df[\"country\"] == \"Brazil\"][\"total_litres_of_pure_alcohol\"].values[0]\n",
    "df[df[\"total_litres_of_pure_alcohol\"] > consumo_de_alcool_no_brasil].sort_values(by=\"total_litres_of_pure_alcohol\", ascending=True)[[\"country\", \"total_litres_of_pure_alcohol\"]]\n"
   ],
   "cell_type": "code",
   "metadata": {},
   "execution_count": 6,
   "outputs": [
    {
     "output_type": "execute_result",
     "data": {
      "text/plain": [
       "                country  total_litres_of_pure_alcohol\n",
       "132            Paraguay                           7.3\n",
       "35                Chile                           7.6\n",
       "188           Venezuela                           7.7\n",
       "143   St. Kitts & Nevis                           7.7\n",
       "159        South Africa                           8.2\n",
       "32               Canada                           8.2\n",
       "44               Cyprus                           8.2\n",
       "6             Argentina                           8.3\n",
       "179              Uganda                           8.3\n",
       "67               Greece                           8.3\n",
       "184                 USA                           8.7\n",
       "62                Gabon                           8.9\n",
       "180             Ukraine                           8.9\n",
       "124             Nigeria                           9.1\n",
       "121         New Zealand                           9.3\n",
       "120         Netherlands                           9.4\n",
       "57              Estonia                           9.5\n",
       "151              Serbia                           9.6\n",
       "9               Austria                           9.7\n",
       "138         South Korea                           9.8\n",
       "60              Finland                          10.0\n",
       "160               Spain                          10.0\n",
       "144           St. Lucia                          10.1\n",
       "166         Switzerland                          10.2\n",
       "42              Croatia                          10.2\n",
       "25             Bulgaria                          10.3\n",
       "8             Australia                          10.4\n",
       "140             Romania                          10.4\n",
       "182      United Kingdom                          10.4\n",
       "48              Denmark                          10.4\n",
       "16              Belgium                          10.5\n",
       "93               Latvia                          10.5\n",
       "156            Slovenia                          10.6\n",
       "135              Poland                          10.9\n",
       "136            Portugal                          11.0\n",
       "75              Hungary                          11.3\n",
       "65              Germany                          11.3\n",
       "99           Luxembourg                          11.4\n",
       "155            Slovakia                          11.4\n",
       "81              Ireland                          11.4\n",
       "141  Russian Federation                          11.5\n",
       "45       Czech Republic                          11.8\n",
       "61               France                          11.8\n",
       "68              Grenada                          11.9\n",
       "3               Andorra                          12.4\n",
       "98            Lithuania                          12.9\n",
       "15              Belarus                          14.4"
      ],
      "text/html": "<div>\n<style scoped>\n    .dataframe tbody tr th:only-of-type {\n        vertical-align: middle;\n    }\n\n    .dataframe tbody tr th {\n        vertical-align: top;\n    }\n\n    .dataframe thead th {\n        text-align: right;\n    }\n</style>\n<table border=\"1\" class=\"dataframe\">\n  <thead>\n    <tr style=\"text-align: right;\">\n      <th></th>\n      <th>country</th>\n      <th>total_litres_of_pure_alcohol</th>\n    </tr>\n  </thead>\n  <tbody>\n    <tr>\n      <th>132</th>\n      <td>Paraguay</td>\n      <td>7.3</td>\n    </tr>\n    <tr>\n      <th>35</th>\n      <td>Chile</td>\n      <td>7.6</td>\n    </tr>\n    <tr>\n      <th>188</th>\n      <td>Venezuela</td>\n      <td>7.7</td>\n    </tr>\n    <tr>\n      <th>143</th>\n      <td>St. Kitts &amp; Nevis</td>\n      <td>7.7</td>\n    </tr>\n    <tr>\n      <th>159</th>\n      <td>South Africa</td>\n      <td>8.2</td>\n    </tr>\n    <tr>\n      <th>32</th>\n      <td>Canada</td>\n      <td>8.2</td>\n    </tr>\n    <tr>\n      <th>44</th>\n      <td>Cyprus</td>\n      <td>8.2</td>\n    </tr>\n    <tr>\n      <th>6</th>\n      <td>Argentina</td>\n      <td>8.3</td>\n    </tr>\n    <tr>\n      <th>179</th>\n      <td>Uganda</td>\n      <td>8.3</td>\n    </tr>\n    <tr>\n      <th>67</th>\n      <td>Greece</td>\n      <td>8.3</td>\n    </tr>\n    <tr>\n      <th>184</th>\n      <td>USA</td>\n      <td>8.7</td>\n    </tr>\n    <tr>\n      <th>62</th>\n      <td>Gabon</td>\n      <td>8.9</td>\n    </tr>\n    <tr>\n      <th>180</th>\n      <td>Ukraine</td>\n      <td>8.9</td>\n    </tr>\n    <tr>\n      <th>124</th>\n      <td>Nigeria</td>\n      <td>9.1</td>\n    </tr>\n    <tr>\n      <th>121</th>\n      <td>New Zealand</td>\n      <td>9.3</td>\n    </tr>\n    <tr>\n      <th>120</th>\n      <td>Netherlands</td>\n      <td>9.4</td>\n    </tr>\n    <tr>\n      <th>57</th>\n      <td>Estonia</td>\n      <td>9.5</td>\n    </tr>\n    <tr>\n      <th>151</th>\n      <td>Serbia</td>\n      <td>9.6</td>\n    </tr>\n    <tr>\n      <th>9</th>\n      <td>Austria</td>\n      <td>9.7</td>\n    </tr>\n    <tr>\n      <th>138</th>\n      <td>South Korea</td>\n      <td>9.8</td>\n    </tr>\n    <tr>\n      <th>60</th>\n      <td>Finland</td>\n      <td>10.0</td>\n    </tr>\n    <tr>\n      <th>160</th>\n      <td>Spain</td>\n      <td>10.0</td>\n    </tr>\n    <tr>\n      <th>144</th>\n      <td>St. Lucia</td>\n      <td>10.1</td>\n    </tr>\n    <tr>\n      <th>166</th>\n      <td>Switzerland</td>\n      <td>10.2</td>\n    </tr>\n    <tr>\n      <th>42</th>\n      <td>Croatia</td>\n      <td>10.2</td>\n    </tr>\n    <tr>\n      <th>25</th>\n      <td>Bulgaria</td>\n      <td>10.3</td>\n    </tr>\n    <tr>\n      <th>8</th>\n      <td>Australia</td>\n      <td>10.4</td>\n    </tr>\n    <tr>\n      <th>140</th>\n      <td>Romania</td>\n      <td>10.4</td>\n    </tr>\n    <tr>\n      <th>182</th>\n      <td>United Kingdom</td>\n      <td>10.4</td>\n    </tr>\n    <tr>\n      <th>48</th>\n      <td>Denmark</td>\n      <td>10.4</td>\n    </tr>\n    <tr>\n      <th>16</th>\n      <td>Belgium</td>\n      <td>10.5</td>\n    </tr>\n    <tr>\n      <th>93</th>\n      <td>Latvia</td>\n      <td>10.5</td>\n    </tr>\n    <tr>\n      <th>156</th>\n      <td>Slovenia</td>\n      <td>10.6</td>\n    </tr>\n    <tr>\n      <th>135</th>\n      <td>Poland</td>\n      <td>10.9</td>\n    </tr>\n    <tr>\n      <th>136</th>\n      <td>Portugal</td>\n      <td>11.0</td>\n    </tr>\n    <tr>\n      <th>75</th>\n      <td>Hungary</td>\n      <td>11.3</td>\n    </tr>\n    <tr>\n      <th>65</th>\n      <td>Germany</td>\n      <td>11.3</td>\n    </tr>\n    <tr>\n      <th>99</th>\n      <td>Luxembourg</td>\n      <td>11.4</td>\n    </tr>\n    <tr>\n      <th>155</th>\n      <td>Slovakia</td>\n      <td>11.4</td>\n    </tr>\n    <tr>\n      <th>81</th>\n      <td>Ireland</td>\n      <td>11.4</td>\n    </tr>\n    <tr>\n      <th>141</th>\n      <td>Russian Federation</td>\n      <td>11.5</td>\n    </tr>\n    <tr>\n      <th>45</th>\n      <td>Czech Republic</td>\n      <td>11.8</td>\n    </tr>\n    <tr>\n      <th>61</th>\n      <td>France</td>\n      <td>11.8</td>\n    </tr>\n    <tr>\n      <th>68</th>\n      <td>Grenada</td>\n      <td>11.9</td>\n    </tr>\n    <tr>\n      <th>3</th>\n      <td>Andorra</td>\n      <td>12.4</td>\n    </tr>\n    <tr>\n      <th>98</th>\n      <td>Lithuania</td>\n      <td>12.9</td>\n    </tr>\n    <tr>\n      <th>15</th>\n      <td>Belarus</td>\n      <td>14.4</td>\n    </tr>\n  </tbody>\n</table>\n</div>"
     },
     "metadata": {},
     "execution_count": 6
    }
   ]
  }
 ]
}